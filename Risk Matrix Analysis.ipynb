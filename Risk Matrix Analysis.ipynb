{
 "cells": [
  {
   "cell_type": "code",
   "execution_count": 69,
   "metadata": {
    "collapsed": true
   },
   "outputs": [
    {
     "name": "stdout",
     "output_type": "stream",
     "text": [
      "                              domain\n",
      "Precision Noise Distribution        \n",
      "Binary Options Trade               3\n",
      "Clean                              6\n",
      "Computer Technical Support         1\n",
      "Forex                              8\n",
      "Pharmaceuticals                    1\n",
      "Precious Metals                    2\n"
     ]
    },
    {
     "data": {
      "text/plain": [
       "<matplotlib.axes._subplots.AxesSubplot at 0x1fd4bbd0a58>"
      ]
     },
     "execution_count": 69,
     "metadata": {},
     "output_type": "execute_result"
    },
    {
     "data": {
      "image/png": "[encoded data removed]",
      "text/plain": [
       "<Figure size 432x288 with 1 Axes>"
      ]
     },
     "metadata": {
      "needs_background": "light"
     },
     "output_type": "display_data"
    }
   ],
   "source": [
    "import pandas as pd\n",
    "import matplotlib.pyplot as plt\n",
    "df =  pd.read_csv(r'C:\\Users\\sensenc\\desktop\\pred_evaluate_unbiased_validation_max_docker.csv')\n",
    "\n",
    "df.head()\n",
    "\n",
    "df1=df[(df.label == 217) & (df.final_prediction != 217)]\n",
    "df2=df1[['Precision Noise Distribution','domain']]\n",
    "df3 = df2.groupby('Precision Noise Distribution').count()\n",
    "print(df3)\n",
    "df3.plot(kind='bar',legend=False)"
   ]
  },
  {
   "cell_type": "code",
   "execution_count": 3,
   "metadata": {},
   "outputs": [],
   "source": [
    "import pandas as pd\n",
    "import matplotlib.pyplot as plt\n",
    "df =  pd.read_csv(r'C:\\Users\\sensenc\\desktop\\pred_evaluate_unbiased_validation_max_docker.csv')\n",
    "\n",
    "df[(df.label == 1012) & (df.final_prediction == 12)].to_csv('hh.csv')"
   ]
  },
  {
   "cell_type": "code",
   "execution_count": 2,
   "metadata": {},
   "outputs": [],
   "source": [
    "from sklearn import metrics"
   ]
  },
  {
   "cell_type": "code",
   "execution_count": 3,
   "metadata": {},
   "outputs": [
    {
     "name": "stdout",
     "output_type": "stream",
     "text": [
      "              precision    recall  f1-score   support\n",
      "\n",
      "           2      0.469     0.605     0.528       271\n",
      "           3      0.564     0.816     0.667       152\n",
      "           4      0.517     0.843     0.641       127\n",
      "           5      0.385     0.769     0.513        26\n",
      "           6      0.615     0.932     0.741       161\n",
      "           7      0.923     0.973     0.947        74\n",
      "           9      0.655     0.906     0.761       128\n",
      "          10      0.368     0.591     0.453        66\n",
      "          12      0.918     0.762     0.833       147\n",
      "          22      0.638     0.847     0.728       131\n",
      "          32      0.836     0.883     0.859       179\n",
      "          34      0.791     0.803     0.797       127\n",
      "          35      0.658     0.864     0.747       147\n",
      "          36      0.537     0.710     0.611       124\n",
      "          40      0.570     0.750     0.647       120\n",
      "          45      0.417     0.778     0.543       158\n",
      "          53      0.462     0.935     0.618        77\n",
      "          54      0.778     0.883     0.827       111\n",
      "          63      0.392     0.904     0.547        94\n",
      "          79      0.559     0.856     0.676       111\n",
      "          83      0.151     0.919     0.260        99\n",
      "          84      0.543     0.475     0.507       200\n",
      "          85      0.448     0.822     0.580        90\n",
      "          86      0.667     0.725     0.695        80\n",
      "          88      0.740     0.524     0.613       271\n",
      "          89      0.397     0.709     0.509       103\n",
      "          90      0.704     0.894     0.788        85\n",
      "          93      0.557     0.821     0.663       156\n",
      "         100      0.155     0.812     0.260        80\n",
      "         127      0.350     0.805     0.488       123\n",
      "         163      0.314     0.867     0.462        83\n",
      "         173      0.575     0.873     0.693        79\n",
      "         175      0.655     0.886     0.753       105\n",
      "         180      0.512     0.768     0.614        56\n",
      "         198      0.430     0.617     0.507       183\n",
      "         209      0.673     0.934     0.783       106\n",
      "         210      0.352     0.773     0.484       128\n",
      "         217      0.522     0.853     0.648       150\n",
      "         219      0.416     0.781     0.543       137\n",
      "        1012      0.931     0.717     0.810     10722\n",
      "        1017      0.808     0.182     0.297       556\n",
      "\n",
      "    accuracy                          0.717     16123\n",
      "   macro avg      0.560     0.785     0.625     16123\n",
      "weighted avg      0.815     0.717     0.739     16123\n",
      "\n"
     ]
    },
    {
     "ename": "AttributeError",
     "evalue": "'str' object has no attribute 'to_csv'",
     "output_type": "error",
     "traceback": [
      "\u001b[1;31m---------------------------------------------------------------------------\u001b[0m",
      "\u001b[1;31mAttributeError\u001b[0m                            Traceback (most recent call last)",
      "\u001b[1;32m<ipython-input-3-b0b90e28bc3d>\u001b[0m in \u001b[0;36m<module>\u001b[1;34m\u001b[0m\n\u001b[0;32m      7\u001b[0m \u001b[1;31m# Print the precision and recall, among other metrics\u001b[0m\u001b[1;33m\u001b[0m\u001b[1;33m\u001b[0m\u001b[1;33m\u001b[0m\u001b[0m\n\u001b[0;32m      8\u001b[0m \u001b[0mprint\u001b[0m\u001b[1;33m(\u001b[0m\u001b[0mmetrics\u001b[0m\u001b[1;33m.\u001b[0m\u001b[0mclassification_report\u001b[0m\u001b[1;33m(\u001b[0m\u001b[0my_true\u001b[0m\u001b[1;33m,\u001b[0m \u001b[0my_pred\u001b[0m\u001b[1;33m,\u001b[0m \u001b[0mdigits\u001b[0m\u001b[1;33m=\u001b[0m\u001b[1;36m3\u001b[0m\u001b[1;33m)\u001b[0m\u001b[1;33m)\u001b[0m\u001b[1;33m\u001b[0m\u001b[1;33m\u001b[0m\u001b[0m\n\u001b[1;32m----> 9\u001b[1;33m \u001b[0mmetrics\u001b[0m\u001b[1;33m.\u001b[0m\u001b[0mclassification_report\u001b[0m\u001b[1;33m(\u001b[0m\u001b[0my_true\u001b[0m\u001b[1;33m,\u001b[0m \u001b[0my_pred\u001b[0m\u001b[1;33m,\u001b[0m \u001b[0mdigits\u001b[0m\u001b[1;33m=\u001b[0m\u001b[1;36m3\u001b[0m\u001b[1;33m)\u001b[0m\u001b[1;33m.\u001b[0m\u001b[0mto_csv\u001b[0m\u001b[1;33m(\u001b[0m\u001b[1;34m'nuo'\u001b[0m\u001b[1;33m)\u001b[0m\u001b[1;33m\u001b[0m\u001b[1;33m\u001b[0m\u001b[0m\n\u001b[0m",
      "\u001b[1;31mAttributeError\u001b[0m: 'str' object has no attribute 'to_csv'"
     ]
    }
   ],
   "source": [
    "\n",
    "\n",
    "\n",
    "\n",
    "y_true=df.label\n",
    "y_pred=df.final_prediction\n",
    "\n",
    "# Print the confusion matrix\n",
    "#print(metrics.confusion_matrix(y_true, y_pred))\n",
    "\n",
    "# Print the precision and recall, among other metrics\n",
    "print(metrics.classification_report(y_true, y_pred, digits=3))\n",
    "metrics.classification_report(y_true, y_pred, digits=3).to_csv('nuo')"
   ]
  },
  {
   "cell_type": "code",
   "execution_count": null,
   "metadata": {},
   "outputs": [],
   "source": []
  }
 ],
 "metadata": {
  "kernelspec": {
   "display_name": "Python 3",
   "language": "python",
   "name": "python3"
  },
  "language_info": {
   "codemirror_mode": {
    "name": "ipython",
    "version": 3
   },
   "file_extension": ".py",
   "mimetype": "text/x-python",
   "name": "python",
   "nbconvert_exporter": "python",
   "pygments_lexer": "ipython3",
   "version": "3.7.3"
  }
 },
 "nbformat": 4,
 "nbformat_minor": 2
}
