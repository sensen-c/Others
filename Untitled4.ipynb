{
 "cells": [
  {
   "cell_type": "code",
   "execution_count": 26,
   "metadata": {},
   "outputs": [
    {
     "data": {
      "text/plain": [
       "id        2240000\n",
       "domain    2240000\n",
       "dtype: int64"
      ]
     },
     "execution_count": 26,
     "metadata": {},
     "output_type": "execute_result"
    }
   ],
   "source": [
    "'''Query\n",
    "SELECT domain.id, domain from domain where domain.domain_type <> 3 and domain.id in (select\n",
    "    domain_id\n",
    "FROM\n",
    "    url_pool.raw_content_finding\n",
    "WHERE\n",
    "    id BETWEEN 6997000000 AND 7060000000\n",
    "        AND culture = 'en'\n",
    "        AND origin = 17\n",
    "        AND finding_sub_type NOT IN (996 , 997, 998)) '''\n",
    "\n",
    "\n",
    "import pandas as pd\n",
    "df=pd.read_csv(r'C:\\Users\\sensenc\\Desktop\\data.csv')\n",
    "#df.head\n",
    "df.drop_duplicates('domain')\n",
    "df.count()\n",
    "#x=df.sample(20000)\n",
    "#x.to_csv(r'C:\\Users\\sensenc\\Desktop\\hah.csv')\n",
    "\n",
    "#question for Dana, time plays here(1st day of data might represent some specific clients)?"
   ]
  },
  {
   "cell_type": "code",
   "execution_count": 27,
   "metadata": {},
   "outputs": [
    {
     "data": {
      "text/plain": [
       "6145336"
      ]
     },
     "execution_count": 27,
     "metadata": {},
     "output_type": "execute_result"
    }
   ],
   "source": [
    "902964+1662445+1378161+2201766"
   ]
  },
  {
   "cell_type": "code",
   "execution_count": null,
   "metadata": {},
   "outputs": [],
   "source": []
  }
 ],
 "metadata": {
  "kernelspec": {
   "display_name": "Python 3",
   "language": "python",
   "name": "python3"
  },
  "language_info": {
   "codemirror_mode": {
    "name": "ipython",
    "version": 3
   },
   "file_extension": ".py",
   "mimetype": "text/x-python",
   "name": "python",
   "nbconvert_exporter": "python",
   "pygments_lexer": "ipython3",
   "version": "3.7.3"
  }
 },
 "nbformat": 4,
 "nbformat_minor": 2
}
