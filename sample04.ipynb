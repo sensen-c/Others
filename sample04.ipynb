{
 "cells": [
  {
   "cell_type": "code",
   "execution_count": 24,
   "metadata": {},
   "outputs": [],
   "source": [
    "import pandas as pd\n",
    "import glob\n",
    "\n",
    "file = glob.glob(r'C:\\Users\\sensenc\\Desktop\\aivi138&139\\*.csv')\n",
    "dfa = pd.concat((pd.read_csv(f,header=0,low_memory=False) for f in file),sort=True)\n",
    "dfa.count()\n",
    "\n",
    "dfa.drop_duplicates(subset='domain',keep = False, inplace = True)\n",
    "df=dfa.drop(columns='id')\n",
    "df = df.dropna(thresh=2)\n",
    "df.count()\n",
    "df.to_csv(r'C:\\Users\\sensenc\\Desktop\\aivi138&139\\haha.csv')"
   ]
  },
  {
   "cell_type": "code",
   "execution_count": 26,
   "metadata": {},
   "outputs": [],
   "source": [
    "df.sample(30000).to_csv(r'C:\\Users\\sensenc\\Desktop\\aivi138&139\\sample.csv')"
   ]
  }
 ],
 "metadata": {
  "kernelspec": {
   "display_name": "Python 3",
   "language": "python",
   "name": "python3"
  },
  "language_info": {
   "codemirror_mode": {
    "name": "ipython",
    "version": 3
   },
   "file_extension": ".py",
   "mimetype": "text/x-python",
   "name": "python",
   "nbconvert_exporter": "python",
   "pygments_lexer": "ipython3",
   "version": "3.7.3"
  }
 },
 "nbformat": 4,
 "nbformat_minor": 2
}
